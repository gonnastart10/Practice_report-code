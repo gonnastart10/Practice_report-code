{
 "cells": [
  {
   "cell_type": "markdown",
   "metadata": {},
   "source": [
    "# -------------------------------------------------------------------------------------\n",
    "# Постановка задачи: нам предлагается файл с данными о покупках различных паков в игре W.. \n",
    "# Необходимо изучить ассоциативные правила, которые мы можем построить на основании предложенных данных.\n",
    "# Наибольший интерес вызывают акционные паки.\n",
    "# -------------------------------------------------------------------------------------"
   ]
  },
  {
   "cell_type": "markdown",
   "metadata": {},
   "source": [
    "# *LEVEL 1:*"
   ]
  },
  {
   "cell_type": "markdown",
   "metadata": {},
   "source": [
    "## Для начала посмотрим на [диаграмму Ганта](https://public.tableau.com/profile/roman2610#!/vizhome/Book_207/Dashboard2).\n",
    "\n",
    "Она позволяет визуально представить в какие дни были совершены покупки и на основании этого выделить паттерн акционных паков."
   ]
  },
  {
   "cell_type": "code",
   "execution_count": 1,
   "metadata": {
    "collapsed": true
   },
   "outputs": [],
   "source": [
    "from datetime import date\n",
    "from datetime import datetime\n",
    "\n",
    "import csv\n",
    "import sys, errno\n",
    "\n",
    "from itertools import chain, combinations\n",
    "from collections import defaultdict\n",
    "from optparse import OptionParser"
   ]
  },
  {
   "cell_type": "markdown",
   "metadata": {},
   "source": [
    "Модуль **mod_apriori_1** содержит функции для 1-3 уровней исследования."
   ]
  },
  {
   "cell_type": "code",
   "execution_count": 2,
   "metadata": {
    "collapsed": true
   },
   "outputs": [],
   "source": [
    "import mod_apriori_1 as m"
   ]
  },
  {
   "cell_type": "markdown",
   "metadata": {},
   "source": [
    "Посмотрим сколько всего различных паков наблюдается по нашим данным:"
   ]
  },
  {
   "cell_type": "code",
   "execution_count": 3,
   "metadata": {
    "collapsed": false
   },
   "outputs": [
    {
     "name": "stdout",
     "output_type": "stream",
     "text": [
      "Всего паков:  214\n"
     ]
    }
   ],
   "source": [
    "pcks=m.all_packs()"
   ]
  },
  {
   "cell_type": "markdown",
   "metadata": {},
   "source": [
    "Акционный пак будем выделять таким образом:\n",
    "- разобьем все покупки на периоды (2 покупки относятся к одному периоду, если они были совершены с разницей в неболее, чем 2 дня)\n",
    "- если каждый период длится не более 2х недель (примерное значение, полученное путем рассмотрения диаграммы Ганта), то пак считается акционным\n",
    "\n",
    "Выделим все акционные паки:"
   ]
  },
  {
   "cell_type": "code",
   "execution_count": 4,
   "metadata": {
    "collapsed": false
   },
   "outputs": [
    {
     "name": "stdout",
     "output_type": "stream",
     "text": [
      "0:00:24.904127\n"
     ]
    }
   ],
   "source": [
    "now = datetime.now()\n",
    "action_pack=m.find_action_packs_with_periods(\"all\", pcks) # любая строка, кроме fb, vk, mm, ok будет искать все паки\n",
    "now1 = datetime.now()\n",
    "print (now1-now)"
   ]
  },
  {
   "cell_type": "markdown",
   "metadata": {},
   "source": [
    "Априори будет применяться к каждому акционному периоду.\n",
    "\n",
    "Для этого выделим всевозможные периоды (некоторые периоды входят друг в друга, поэтому их выбираем, как один период):"
   ]
  },
  {
   "cell_type": "code",
   "execution_count": 5,
   "metadata": {
    "collapsed": false,
    "scrolled": true
   },
   "outputs": [],
   "source": [
    "times_s, times_e = m.periods_without_intersections(action_pack)\n",
    "# times_s - начальные времена\n",
    "# times_e - конечные времена  (пример периода: times_s[0] - times_e[0])\n",
    "#print times_s,\"\\n\\n\", times_e"
   ]
  },
  {
   "cell_type": "markdown",
   "metadata": {},
   "source": [
    "Создаем словарь ID : паки - времена"
   ]
  },
  {
   "cell_type": "code",
   "execution_count": 6,
   "metadata": {
    "collapsed": false
   },
   "outputs": [],
   "source": [
    "id_pack_period=m.dict_id_pack_periods()"
   ]
  },
  {
   "cell_type": "markdown",
   "metadata": {},
   "source": [
    "Теперь запускаем Априори. На выходе мы получим файл с правилами (порядок покупок в рамках периода учтен)."
   ]
  },
  {
   "cell_type": "code",
   "execution_count": 7,
   "metadata": {
    "collapsed": false
   },
   "outputs": [
    {
     "name": "stdout",
     "output_type": "stream",
     "text": [
      "0:00:33.254648\n"
     ]
    }
   ],
   "source": [
    "tabl_dict={} # словарь с необходимыми данными по правилам\n",
    "rules_for_apriori={} # словарь с транзакциями правил (для составления стратегий)\n",
    "rules_definition={} # словарь инициализирующий правила из предыдущего словаря\n",
    "tabl_dict, rules_for_apriori, rules_definition=m.write_res_to_file_name(\"res_l1_check_seq_1.txt\", 0.02, 0.5,tabl_dict, rules_for_apriori, rules_definition, id_pack_period, times_s, times_e, action_pack)"
   ]
  },
  {
   "cell_type": "markdown",
   "metadata": {},
   "source": [
    "Создаем файл (правило-информация) для `Tableau`:"
   ]
  },
  {
   "cell_type": "code",
   "execution_count": 8,
   "metadata": {
    "collapsed": true
   },
   "outputs": [],
   "source": [
    "with open('good_thing_to_do_1.csv', 'w') as csvfile_1:\n",
    "    fieldnames=[\"ID\",\"Rule\",\"Confidence\",\"Lift\",\"Support\",\"Social_network\",\"Date\",\"Number_of_transactions_in_period\",\"Consist_action_pack\"]\n",
    "    writer = csv.DictWriter(csvfile_1, fieldnames=fieldnames,delimiter='|')\n",
    "    writer.writeheader()\n",
    "    for key,value in tabl_dict.items():\n",
    "        #print value[4],\n",
    "        writer.writerow({fieldnames[0]: key, fieldnames[1]: value[0], fieldnames[2]: value[1], fieldnames[3]: value[2],fieldnames[4]: value[3],fieldnames[5]: value[4],fieldnames[6]: value[5],fieldnames[7]: value[6],fieldnames[8]: value[7]})"
   ]
  },
  {
   "cell_type": "markdown",
   "metadata": {},
   "source": [
    "## *Результаты по 1-му уровню*:\n",
    "\n",
    "*Основные результаты представлены в виде дэшбордов.*\n",
    "\n",
    "1. [Правило - информация (1)](https://public.tableau.com/profile/publish/Rule_Inf_about_it/Dashboard3#!/publish-confirm)     \n",
    "Данный дэшборд показывает получившиеся правила и информацию о них (наличие акционного пака в правиле, количество транзакций в периоде, support, confidence, lift). **Рассматриваються все периоды всех паков (взможны повторяющиеся результаты при совпадении периодов), порядок не учитывается.**\n",
    "\n",
    "2. [Правило - информация (2)](https://public.tableau.com/profile/publish/Rule-Infconsideringsequence/Dashboard1#!/publish-confirm)     \n",
    "Данный дэшборд показывает получившиеся правила и информацию о них. Рассматриваються все периоды всех паков (возможны повторяющиеся результаты при совпадении периодов), порядок  **учитывается**.\n",
    "\n",
    "3. [Правило - информация (3)](https://public.tableau.com/profile/publish/Rule-Informationconsideringsequenceandperiods/Dashboard1#!/publish-confirm)     \n",
    "Данный дэшборд показывает получившиеся правила и информацию о них. Рассматриваются **периоды, выделенные алгоритмом**, порядок  **учитывается.**\n",
    "\n",
    "'*Основные моменты: чем больше транзакций, тем лучше (на наших данных, при кол-ве транзакций >100, в большинстве это правила внутри соц. сети - одноклассники), нужно исключить лифт = 1 (иначе данные независимы).*\n",
    "\n",
    "## *Выводы по 1-му уровню:*\n",
    "\n",
    "1. Если выделить только акционные правила, то можно заметить, что во всех периодах наблюдается слишком мало транзакций. Такой результат можно интерпретировать **либо как то, что в большинстве акции не влияют на результаты покупок **(если, к примеру, акции должны приводить к покупкам данных паков пользователей с различных соц.сетей), **либо, как то, что необходимо рассматривать правила по некоторым дополнительным признакам (как, к примеру, внутри одной соц. сети)**, т.к. иначе акционные паки не проходят порог минимального саппорта, который в нашем случае итак слишком маленький.\n",
    "\n",
    "2. Учитывая *основные моменты*' **(numb >= 100, conf >= 0.7, lift > 1, sup > 0.1)**, посмотрим какие правила нам удалось получить (Правило-информация (1)). \n",
    "В основном получилось много одинаковых правил с различными показателями (conf, sup. ...). К тому же, среди них нет ни одного акционного пака.\n",
    "\n",
    "[Правила](https://public.tableau.com/shared/G75C86N92?:display_count=yes):\n",
    "\n",
    "    - ok_offer_new4  =>  ok_offer_new3\n",
    "    - ok_offer_new3  =>  ok_crystal_upgrade_2\n",
    "    - (i, j)  =>  k,    \n",
    "    i,j,k in {ok_offer_new1,ok_offer_new2,ok_offer_new3}\n",
    "\n",
    "Таким образом, можно заметить, что самые удачные правила, все до единого принадлежат соц. сети **OK**. Это можно объяснить скорее нехваткой данных, нежели какими-то более смелыми выводоми. Однако более приемлемым результатом можно выделить то, что из стандартных паков в **OK**, только вышеприведенные можно считать зависимыми друг от друга (**акционных паков нет!**).\n",
    "\n"
   ]
  },
  {
   "cell_type": "markdown",
   "metadata": {},
   "source": [
    "# *LEVEL 2:*"
   ]
  },
  {
   "cell_type": "markdown",
   "metadata": {},
   "source": [
    "Модуль **mod_apriori_lvl2** содержит функции для 2 уровня исследования."
   ]
  },
  {
   "cell_type": "code",
   "execution_count": 9,
   "metadata": {
    "collapsed": true
   },
   "outputs": [],
   "source": [
    "import mod_apriori_lvl2 as ml2"
   ]
  },
  {
   "cell_type": "markdown",
   "metadata": {},
   "source": [
    "## Промежуточный результат:\n",
    "\n",
    "При добавлении страны в транзакцию, работая со всеми соц. сетями получались тривиалные результаты, по типу: US => fb, RU => vk/ok. Поэтому мы проводили исследования в рамках одной соц. сети (провели по каждой)."
   ]
  },
  {
   "cell_type": "code",
   "execution_count": 34,
   "metadata": {
    "collapsed": false
   },
   "outputs": [
    {
     "name": "stdout",
     "output_type": "stream",
     "text": [
      "0:00:06.392363\n"
     ]
    }
   ],
   "source": [
    "social_ntwrk=\"vk\"\n",
    "now = datetime.now()\n",
    "action_pack_2=m.find_action_packs_with_periods(social_ntwrk, pcks) # любая строка, кроме fb, vk, mm, ok будет искать все паки\n",
    "now1 = datetime.now()\n",
    "print (now1-now)"
   ]
  },
  {
   "cell_type": "markdown",
   "metadata": {},
   "source": [
    "Создаем словарь id: социальные данные:"
   ]
  },
  {
   "cell_type": "code",
   "execution_count": 35,
   "metadata": {
    "collapsed": false
   },
   "outputs": [
    {
     "name": "stdout",
     "output_type": "stream",
     "text": [
      "Error has been found\n",
      "0:00:07.079810\n",
      "0:00:02.437796\n"
     ]
    }
   ],
   "source": [
    "id_soc_data=ml2.id_soc_data_inf()"
   ]
  },
  {
   "cell_type": "code",
   "execution_count": 36,
   "metadata": {
    "collapsed": false
   },
   "outputs": [
    {
     "name": "stdout",
     "output_type": "stream",
     "text": [
      "0:00:00.331613\n"
     ]
    }
   ],
   "source": [
    "id_pack_period_2=ml2.id_pack_period_lvl2(social_ntwrk) # на вход подаем какая social network исследуется"
   ]
  },
  {
   "cell_type": "markdown",
   "metadata": {},
   "source": [
    "Запускаем Априори, где в транзакциях, помимо паков, присутствуют страны. (**порядок не учитывается!**; **промежутки не выделяются!** (могут быть пересечения))"
   ]
  },
  {
   "cell_type": "code",
   "execution_count": 37,
   "metadata": {
    "collapsed": false
   },
   "outputs": [
    {
     "name": "stdout",
     "output_type": "stream",
     "text": [
      "0:00:06.161527\n"
     ]
    }
   ],
   "source": [
    "tabl_dct={}\n",
    "tabl_dct=ml2.write_res_to_file_name_lvl2(\"res_l1_check_2.txt\", 0.1, 0.65,tabl_dct, action_pack_2, id_soc_data, id_pack_period_2)"
   ]
  },
  {
   "cell_type": "markdown",
   "metadata": {},
   "source": [
    "Создаем файл (правило-информация) для `Tableau`:"
   ]
  },
  {
   "cell_type": "code",
   "execution_count": 38,
   "metadata": {
    "collapsed": false
   },
   "outputs": [],
   "source": [
    "with open('good_thing_to_do_with_country_vk.csv', 'w') as csvfile_1:\n",
    "    fieldnames=[\"ID\",\"Rule\",\"Confidence\",\"Lift\",\"Support\",\"Social_network\",\"Date\",\"Number_of_transactions_in_period\",\"Consist_action_pack\",\"Consists_country\"]\n",
    "    writer = csv.DictWriter(csvfile_1, fieldnames=fieldnames,delimiter='|')\n",
    "    writer.writeheader()\n",
    "    count =1\n",
    "    for key,value in tabl_dct.items():\n",
    "        l_s=\"\"\n",
    "        r_s=\"\"\n",
    "        acs1=False\n",
    "        acs2=False\n",
    "        for i in value[0]:\n",
    "            if i!=\"=\" and acs1==False:\n",
    "                l_s=l_s+i\n",
    "            else:\n",
    "                acs1=True\n",
    "                if i!=\"=\"and i!=\">\" and i!=\" \" and acs2==False:\n",
    "                    r_s=r_s+i\n",
    "        consists_country=\"no\"\n",
    "        l=l_s.strip(\" \").strip(\"(\").strip(\")\").strip(\",\").split(\",\")\n",
    "        for i in range(0,len(l)):\n",
    "            l[i]=l[i].strip(\"'\")\n",
    "            if l[i][0:2]!=social_ntwrk:\n",
    "                if count!=4:\n",
    "                    count+=1\n",
    "                    #print l,\"===\",value[0]\n",
    "                consists_country=\"yes\"\n",
    "                        \n",
    "        r=r_s.strip(\" \").strip(\"(\").strip(\")\").strip(\",\").split(\",\")\n",
    "        for i in range(0,len(r)):\n",
    "            r[i]=r[i].strip(\"'\")\n",
    "            if r[i][0:2]!=social_ntwrk:\n",
    "                consists_country=\"yes\"\n",
    "                if count!=4:\n",
    "                    count+=1\n",
    "                    #print r,\"===\",value[0]\n",
    "        \n",
    "        writer.writerow({fieldnames[0]: key, fieldnames[1]: value[0], fieldnames[2]: value[1], fieldnames[3]: value[2],fieldnames[4]: value[3],fieldnames[5]: value[4],fieldnames[6]: value[5],fieldnames[7]: value[6],fieldnames[8]: value[7],fieldnames[9]: consists_country})"
   ]
  },
  {
   "cell_type": "markdown",
   "metadata": {},
   "source": [
    "## *Результаты по 2-му уровню*:\n",
    "\n",
    "-  [Правило - информация (fb)](https://public.tableau.com/profile/publish/Rule-Information-SocialDatafb/Dashboard2#!/publish-confirm)     \n",
    "-  [Правило - информация (mm)](https://public.tableau.com/profile/publish/Rule-Information-SocialDatamm/Dashboard1#!/publish-confirm)    \n",
    "-  [Правило - информация (ok)](https://public.tableau.com/profile/publish/Rule-Information-SocialDataok/Dashboard3#!/publish-confirm)    \n",
    "-  [Правило - информация (vk)](https://public.tableau.com/profile/publish/Rule-Information-SocialDatavk/Dashboard4#!/publish-confirm)    \n",
    "Данные дэшборды показывают получившиеся правила и информацию о них (support, confidence, lift, содержание страны (соц. данные) в правиле, содержание акционного пака).\n",
    "\n",
    "**Порядок правил не учитывается!** \n",
    "\n",
    "## *Выводы по 2-му уровню:*\n",
    "\n",
    "\n",
    "Во всех соц. сетях получили достаточно много промежутков при транзакциях более, чем 100. Однако верхняя граница транзакций у социальных сетей fb и mm не превышает 400 (fb - 380, mm - 308). У vk и ok эта граница выше (700 и 1067 соответственно).\n",
    "\n",
    "Акционные паки: \n",
    "\n",
    "При выделении правил, учитывая реккомендации (транзакций более 100, остальное на минимальном значении) получаются такие результаты:\n",
    "\n",
    "1. По социальной сети **fb** выходит 0 правил (что также является важным результатом, с учетом того, что в первом уровне рассматривались все социальные сети, а здесь только **fb**, т.е. гораздо меньше шанс потерять правило из-за огромного количестива транзакций).\n",
    "\n",
    "2. По остальным социальным сетям выходят некоторые правила, но абсолютно все они такого вида: пак => страна в котором он куплен (абсолютно тривиальные и не представляющие важности правила).\n",
    "\n",
    "**Вывод:** учитывая то, что в предыдущем уровне не было найдено правил с акционными паками (при рекомендуемых параметрах), то добавление страны, ожидаемо, не должно было изменить результата. Однако ограниченность одной соц. сетью позволяет сделать новые, но в то же время уже известные нам выводы: либо мы испытываем **недостаток данных** , либо мы наблюдаем **абсолютное отсутствие влияния акционных паков на покупки**."
   ]
  },
  {
   "cell_type": "markdown",
   "metadata": {},
   "source": [
    "# *LEVEL 3:*"
   ]
  },
  {
   "cell_type": "markdown",
   "metadata": {},
   "source": [
    "### Важно отметить:\n",
    "\n",
    "Стратегии было решено искать также, используя Априори. Для каждого пользователя проверялось выполнялось ли для него правило (порядок учитывается) в конкретном периоде (периоды, как в (3) дэшборде 1-го уровня). Таким образом транзакция состояла из различных правил, найденных в 1-м уровне."
   ]
  },
  {
   "cell_type": "markdown",
   "metadata": {},
   "source": [
    "Запускаем Априори (без определения порядка) на транзакциях по правилам (ищем стратегии):\n",
    "\n",
    "- **стратегии без определения порядка!**\n",
    "- **правила с определением порядка!**"
   ]
  },
  {
   "cell_type": "code",
   "execution_count": 14,
   "metadata": {
    "collapsed": false
   },
   "outputs": [],
   "source": [
    "t_d_1={}\n",
    "with open('file_for_transactions.csv', 'w') as csf:\n",
    "    for key, value in rules_for_apriori.items():\n",
    "        st=\"\"\n",
    "        for i in range(0,len(value)):\n",
    "            st=st+value[i]+','\n",
    "        csf.write(st+'\\n')\n",
    "\n",
    "\n",
    "inFile = m.dataFromFile(\"file_for_transactions.csv\")             \n",
    "items, rules = m.runApriori_lvl3(inFile, 0.02, 0.5)  \n",
    "\n",
    "with open('for_test_res_lvl3.csv', 'w') as rs:\n",
    "    id_count=0\n",
    "    id_count, t_d_1=m.printResults(items, rules, rs, id_count, t_d_1, 0, 1, 2, action_pack)\n",
    "                    \n",
    "                    "
   ]
  },
  {
   "cell_type": "markdown",
   "metadata": {},
   "source": [
    "Создаем файлы (правила-информация и инициализация правил) для Tableau:"
   ]
  },
  {
   "cell_type": "code",
   "execution_count": 15,
   "metadata": {
    "collapsed": false
   },
   "outputs": [],
   "source": [
    "with open('g_t_strategy.csv', 'w') as csvfile_1:\n",
    "    fieldnames=[\"ID\",\"Rule\",\"Confidence\",\"Lift\",\"Support\"]\n",
    "    writer = csv.DictWriter(csvfile_1, fieldnames=fieldnames,delimiter='|')\n",
    "    writer.writeheader()\n",
    "    for key,value in t_d_1.items():\n",
    "        #print value[4],\n",
    "        writer.writerow({fieldnames[0]: key, fieldnames[1]: value[0], fieldnames[2]: value[1], fieldnames[3]: value[2],fieldnames[4]: value[3]})"
   ]
  },
  {
   "cell_type": "code",
   "execution_count": 16,
   "metadata": {
    "collapsed": true
   },
   "outputs": [],
   "source": [
    "with open('definition.csv', 'w') as csvfile_1:\n",
    "    fieldnames=[\"Rule\", \"Rule's definition\",\"Date\"]\n",
    "    writer = csv.DictWriter(csvfile_1, fieldnames=fieldnames,delimiter='|')\n",
    "    writer.writeheader()\n",
    "    for key,value in rules_definition.items():\n",
    "        writer.writerow({fieldnames[0]: value[0], fieldnames[1]: key,fieldnames[2]: value[1]})"
   ]
  },
  {
   "cell_type": "markdown",
   "metadata": {},
   "source": [
    "## *Результаты по 3-му уровню*:\n",
    "\n",
    "-  [Стретегии - инициализация правил](https://public.tableau.com/profile/publish/Strat-Def/Dashboard1#!/publish-confirm)     \n",
    "Данный дэшборд показывает получившиеся стратегии, информацию о них (support, confidence, lift) и иницилизацию правил в стратегиях. Транзакции правил строились по информации, которую можно наблюдать в  \"[правило - информация (3)](https://public.tableau.com/profile/publish/Rule-Informationconsideringsequenceandperiods/Dashboard1#!/publish-confirm)\".     \n",
    "\n",
    "**Порядок правил в стратегиях не учитывается!** Можно проследить по дэшборду с инициализациями правил.\n",
    "\n",
    "## *Выводы по 3-му уровню:*\n",
    "\n",
    "Получившиеся стретегии, после изучения появления паков в игре, оказались достаточно тривиальными (пример: пак  *Х* можно купить только (!) после того, как купишь пак *У*). Однако этот результат показал, что стратегии по Априори выявить можно, а отсутствие информации об акционных паках **можно трактовать** либо **как недостаток данных**, либо как то, что **акционные паки не оказывают существенного влияния на покупки**."
   ]
  }
 ],
 "metadata": {
  "kernelspec": {
   "display_name": "Python 2",
   "language": "python",
   "name": "python2"
  },
  "language_info": {
   "codemirror_mode": {
    "name": "ipython",
    "version": 2
   },
   "file_extension": ".py",
   "mimetype": "text/x-python",
   "name": "python",
   "nbconvert_exporter": "python",
   "pygments_lexer": "ipython2",
   "version": "2.7.11"
  }
 },
 "nbformat": 4,
 "nbformat_minor": 0
}
